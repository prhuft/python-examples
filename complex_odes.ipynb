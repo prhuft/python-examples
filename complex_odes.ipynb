{
 "cells": [
  {
   "cell_type": "code",
   "execution_count": null,
   "metadata": {},
   "outputs": [],
   "source": [
    "\"\"\"\n",
    "    Solving complex ordinary differential eqs.\n",
    "    Found here: \n",
    "    https://stackoverflow.com/questions/19910189/scipy-odeint-with\n",
    "    -complex-initial-values\n",
    "\"\"\""
   ]
  },
  {
   "cell_type": "code",
   "execution_count": 6,
   "metadata": {},
   "outputs": [
    {
     "name": "stdout",
     "output_type": "stream",
     "text": [
      "Maximum difference between the complex and real versions is\n"
     ]
    },
    {
     "data": {
      "image/png": "[encoded data removed]",
      "text/plain": [
       "<Figure size 432x288 with 1 Axes>"
      ]
     },
     "metadata": {},
     "output_type": "display_data"
    }
   ],
   "source": [
    "import numpy as np\n",
    "from scipy.integrate import odeint\n",
    "\n",
    "\n",
    "def odeintz(func, z0, t, **kwargs):\n",
    "    \"\"\"An odeint-like function for complex valued differential equations.\"\"\"\n",
    "\n",
    "    # Disallow Jacobian-related arguments.\n",
    "    _unsupported_odeint_args = ['Dfun', 'col_deriv', 'ml', 'mu']\n",
    "    bad_args = [arg for arg in kwargs if arg in _unsupported_odeint_args]\n",
    "    if len(bad_args) > 0:\n",
    "        raise ValueError(\"The odeint argument %r is not supported by \"\n",
    "                         \"odeintz.\" % (bad_args[0],))\n",
    "\n",
    "    # Make sure z0 is a numpy array of type np.complex128.\n",
    "    z0 = np.array(z0, dtype=np.complex128, ndmin=1)\n",
    "\n",
    "    def realfunc(x, t, *args):\n",
    "        z = x.view(np.complex128)\n",
    "        dzdt = func(z, t, *args)\n",
    "        # func might return a python list, so convert its return\n",
    "        # value to an array with type np.complex128, and then return\n",
    "        # a np.float64 view of that array.\n",
    "        return np.asarray(dzdt, dtype=np.complex128).view(np.float64)\n",
    "\n",
    "    result = odeint(realfunc, z0.view(np.float64), t, **kwargs)\n",
    "\n",
    "    if kwargs.get('full_output', False):\n",
    "        z = result[0].view(np.complex128)\n",
    "        infodict = result[1]\n",
    "        return z, infodict\n",
    "    else:\n",
    "        z = result.view(np.complex128)\n",
    "        return z\n",
    "\n",
    "\n",
    "if __name__ == \"__main__\":\n",
    "    # Generate a solution to:\n",
    "    #     dz1/dt = -z1 * (K - z2)\n",
    "    #     dz2/dt = L - z2\n",
    "    # K and L are fixed parameters.  z1(t) and z2(t) are complex-\n",
    "    # valued functions of t.\n",
    "\n",
    "    # Define the right-hand-side of the differential equation.\n",
    "    def zfunc(z, t, K, L):\n",
    "        z1, z2 = z\n",
    "        return [-z1 * (K - z2), L - z2] \n",
    "\n",
    "    # Set up the inputs and call odeintz to solve the system.\n",
    "    z0 = np.array([1+2j, 3+4j])\n",
    "    t = np.linspace(0, 4, 101)\n",
    "    K = 3\n",
    "    L = 1\n",
    "    z, infodict = odeintz(zfunc, z0, t, args=(K,L), full_output=True)\n",
    "\n",
    "    # For comparison, here is how the complex system can be converted\n",
    "    # to a real system.  The real and imaginary parts are used to\n",
    "    # write a system of four coupled equations.  The formulas for\n",
    "    # the complex right-hand-sides are\n",
    "    #   -z1 * (K - z2) = -(x1 + i*y1) * (K - (x2 + i*y2))\n",
    "    #                  = (-x1 - i*y1) * (K - x2 + i(-y2))\n",
    "    #                  = -x1 * (K - x2) - y1*y2 + i*(-y1*(K - x2) + x1*y2)\n",
    "    # and\n",
    "    #   L - z2 = L - (x2 + i*y2)\n",
    "    #          = (L - x2) + i*(-y2)\n",
    "    def func(r, t, K, L):\n",
    "        x1, y1, x2, y2 = r\n",
    "        dx1dt = -x1 * (K - x2) - y1*y2\n",
    "        dy1dt = -y1 * (K - x2) + x1*y2\n",
    "        dx2dt = L - x2\n",
    "        dy2dt = -y2\n",
    "        return [dx1dt, dy1dt, dx2dt, dy2dt]\n",
    "\n",
    "    # Use regular odeint to solve the real system.\n",
    "    r, infodict = odeint(func, z0.view(np.float64), t, args=(K,L), full_output=True)\n",
    "\n",
    "    # Compare the two solutions.  They should be the same.  (As usual for\n",
    "    # floating point calculations, there could be a small difference.)\n",
    "    delta_max = np.abs(z.view(np.float64) - r).max()\n",
    "    print (\"Maximum difference between the complex and real versions is\"), delta_max\n",
    "\n",
    "\n",
    "    # Plot the real and imaginary parts of the complex solution.\n",
    "\n",
    "    import matplotlib.pyplot as plt\n",
    "\n",
    "    plt.clf()\n",
    "    plt.plot(t, z[:,0].real, label='z1.real')\n",
    "    plt.plot(t, z[:,0].imag, label='z1.imag')\n",
    "    plt.plot(t, z[:,1].real, label='z2.real')\n",
    "    plt.plot(t, z[:,1].imag, label='z2.imag')\n",
    "    plt.xlabel('t')\n",
    "    plt.grid(True)\n",
    "    plt.legend(loc='best')\n",
    "    plt.show()"
   ]
  },
  {
   "cell_type": "code",
   "execution_count": null,
   "metadata": {},
   "outputs": [],
   "source": []
  }
 ],
 "metadata": {
  "kernelspec": {
   "display_name": "Python 3",
   "language": "python",
   "name": "python3"
  },
  "language_info": {
   "codemirror_mode": {
    "name": "ipython",
    "version": 3
   },
   "file_extension": ".py",
   "mimetype": "text/x-python",
   "name": "python",
   "nbconvert_exporter": "python",
   "pygments_lexer": "ipython3",
   "version": "3.6.1"
  }
 },
 "nbformat": 4,
 "nbformat_minor": 2
}
