{
 "cells": [
  {
   "cell_type": "markdown",
   "metadata": {},
   "source": [
    "## abstract base classes"
   ]
  },
  {
   "cell_type": "code",
   "execution_count": 3,
   "metadata": {},
   "outputs": [],
   "source": [
    "from abc import ABC, abstractmethod"
   ]
  },
  {
   "cell_type": "code",
   "execution_count": 8,
   "metadata": {},
   "outputs": [],
   "source": [
    "class shape(ABC):\n",
    "    \n",
    "    def __init__(self, name, sides, side_lengths):\n",
    "        self.name = name\n",
    "        self.sides = sides\n",
    "        self.side_lengths = side_lengths # should have setter/getter for this too but i'm lazy rn\n",
    "        \n",
    "    @property\n",
    "    def name(self):\n",
    "        return self._name\n",
    "    \n",
    "    @name.setter\n",
    "    def name(self, value):\n",
    "        self._name = value\n",
    "        \n",
    "    @property\n",
    "    def sides(self):\n",
    "        return self._name\n",
    "    \n",
    "    @name.setter\n",
    "    def sides(self, value):\n",
    "        self._name = value   \n",
    "        \n",
    "    @abstractmethod\n",
    "    def color_by_sides(self, color):\n",
    "        return NotImplemented"
   ]
  },
  {
   "cell_type": "code",
   "execution_count": 25,
   "metadata": {},
   "outputs": [],
   "source": [
    "class triangle(shape):\n",
    "    \n",
    "    def __init__(self, side_lengths):\n",
    "        super().__init__('Triangle', 3, side_lengths)\n",
    "        \n",
    "#     def color_by_sides(self, color):\n",
    "    def color_by_sides(self, color):\n",
    "        return NotImplemented"
   ]
  },
  {
   "cell_type": "code",
   "execution_count": 26,
   "metadata": {},
   "outputs": [
    {
     "name": "stdout",
     "output_type": "stream",
     "text": [
      "<class '__main__.triangle'>\n"
     ]
    }
   ],
   "source": [
    "mytri = triangle([3,4,5])"
   ]
  },
  {
   "cell_type": "code",
   "execution_count": null,
   "metadata": {},
   "outputs": [],
   "source": []
  }
 ],
 "metadata": {
  "kernelspec": {
   "display_name": "Python 3",
   "language": "python",
   "name": "python3"
  },
  "language_info": {
   "codemirror_mode": {
    "name": "ipython",
    "version": 3
   },
   "file_extension": ".py",
   "mimetype": "text/x-python",
   "name": "python",
   "nbconvert_exporter": "python",
   "pygments_lexer": "ipython3",
   "version": "3.7.3"
  }
 },
 "nbformat": 4,
 "nbformat_minor": 2
}
