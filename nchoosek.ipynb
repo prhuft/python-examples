{
 "cells": [
  {
   "cell_type": "code",
   "execution_count": 6,
   "metadata": {},
   "outputs": [],
   "source": [
    "from copy import copy"
   ]
  },
  {
   "cell_type": "code",
   "execution_count": 19,
   "metadata": {},
   "outputs": [],
   "source": [
    "def func(n,k,lst,io,idcs):\n",
    "    for i in range(io,n):\n",
    "        idcs_copy = copy(idcs)\n",
    "        idcs_copy.append(i)\n",
    "        print(i,idcs_copy,lst)\n",
    "        if io < k:\n",
    "            lst = func(n,k,lst,i+1,idcs_copy)\n",
    "        elif i < k:\n",
    "            lst.append(idcs_copy)\n",
    "        else:\n",
    "            return lst"
   ]
  },
  {
   "cell_type": "code",
   "execution_count": 20,
   "metadata": {},
   "outputs": [
    {
     "name": "stdout",
     "output_type": "stream",
     "text": [
      "0 [0] []\n",
      "1 [0, 1] []\n",
      "2 [0, 1, 2] []\n",
      "3 [0, 1, 2, 3] []\n",
      "3 [0, 1, 3] []\n",
      "2 [0, 2] None\n",
      "3 [0, 2, 3] None\n",
      "3 [0, 3] None\n",
      "1 [1] None\n",
      "2 [1, 2] None\n",
      "3 [1, 2, 3] None\n",
      "3 [1, 3] None\n",
      "2 [2] None\n",
      "3 [2, 3] None\n",
      "3 [3] None\n"
     ]
    }
   ],
   "source": [
    "func(4,3,[],0,[])"
   ]
  },
  {
   "cell_type": "code",
   "execution_count": null,
   "metadata": {},
   "outputs": [],
   "source": []
  }
 ],
 "metadata": {
  "kernelspec": {
   "display_name": "Python 3",
   "language": "python",
   "name": "python3"
  },
  "language_info": {
   "codemirror_mode": {
    "name": "ipython",
    "version": 3
   },
   "file_extension": ".py",
   "mimetype": "text/x-python",
   "name": "python",
   "nbconvert_exporter": "python",
   "pygments_lexer": "ipython3",
   "version": "3.6.1"
  }
 },
 "nbformat": 4,
 "nbformat_minor": 2
}
