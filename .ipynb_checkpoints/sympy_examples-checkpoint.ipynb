{
 "cells": [
  {
   "cell_type": "code",
   "execution_count": null,
   "metadata": {},
   "outputs": [],
   "source": [
    "\"\"\" Sympy Matrix Module Examples\n",
    "    Preston Huft, April 2019\n",
    "\"\"\""
   ]
  },
  {
   "cell_type": "code",
   "execution_count": 32,
   "metadata": {},
   "outputs": [],
   "source": [
    "from sympy import MatrixSymbol,MatAdd,MatMul,Identity,I,Matrix,symbols\n",
    "from sympy.utilities.iterables import flatten\n",
    "from sympy.utilities.lambdify import lambdify, implemented_function\n",
    "from sympy import Function\n",
    "import numpy as np\n",
    "from numpy import conj as cc\n",
    "from math import sqrt,pi"
   ]
  },
  {
   "cell_type": "code",
   "execution_count": 3,
   "metadata": {},
   "outputs": [
    {
     "name": "stdout",
     "output_type": "stream",
     "text": [
      "A[0, 0] + B[0, 0]\n",
      "A[0, 1] + B[0, 1]\n",
      "A[1, 0] + B[1, 0]\n",
      "A[1, 1] + B[1, 1]\n"
     ]
    }
   ],
   "source": [
    "###############################################################################\n",
    "## Symbolic matrices\n",
    "###############################################################################\n",
    "Alice = MatrixSymbol('A',2,2)\n",
    "Bob = MatrixSymbol('B',2,2)\n",
    "\n",
    "C  = MatAdd(Alice,Bob)\n",
    "for c in C:\n",
    "    print(c)"
   ]
  },
  {
   "cell_type": "code",
   "execution_count": 4,
   "metadata": {},
   "outputs": [],
   "source": [
    "###############################################################################\n",
    "## Example : Driven two-level atom in density matrix picture\n",
    "###############################################################################\n",
    "\n",
    "def comm(A,B):\n",
    "    \"\"\"[A,B]=A.B-B.A. Assumes symbolic matrix.\"\"\"\n",
    "    return MatMul(A,B)-MatMul(B,A)\n",
    "\n",
    "def elems(expr):\n",
    "    \"\"\"Returns the elements of symbolic matrix expr as as list\"\"\"\n",
    "#     print([elem for elem in expr])\n",
    "    return np.array([elem for elem in expr])"
   ]
  },
  {
   "cell_type": "code",
   "execution_count": 5,
   "metadata": {},
   "outputs": [
    {
     "data": {
      "text/plain": [
       "array([1.0*I*(O*conjugate(r[1, 0])/2 - conjugate(O)*r[1, 0]/2),\n",
       "       1.0*I*(E2*conjugate(r[1, 0]) - (E1 - d)*conjugate(r[1, 0]) + conjugate(O)*r[0, 0]/2 - conjugate(O)*r[1, 1]/2),\n",
       "       1.0*I*(-E2*r[1, 0] - O*r[0, 0]/2 + O*r[1, 1]/2 + (E1 - d)*r[1, 0]),\n",
       "       1.0*I*(-O*conjugate(r[1, 0])/2 + conjugate(O)*r[1, 0]/2)],\n",
       "      dtype=object)"
      ]
     },
     "execution_count": 5,
     "metadata": {},
     "output_type": "execute_result"
    }
   ],
   "source": [
    "# define symbolic matrices which can be made numeric later\n",
    "E1,E2,d,O = symbols('E1 E2 d O') # symbolic variables\n",
    "H_a = Matrix([[E1,0],[0,E2]])\n",
    "H_field = Matrix([[-d,cc(O)/2],[O/2,0]])\n",
    "H = H_a + H_field # the full Hamiltonian\n",
    "r = MatrixSymbol('r',2,2).as_mutable() # density op\n",
    "r[0,1]=cc(r[1,0]) # now we need only solve 3 eqs\n",
    "RHS = comm(r,H) # the commutator\n",
    "rhs = 1j*elems(RHS) # rhs elements of Von Neumann eq\n",
    "\n",
    "rhs"
   ]
  },
  {
   "cell_type": "code",
   "execution_count": 10,
   "metadata": {},
   "outputs": [
    {
     "name": "stdout",
     "output_type": "stream",
     "text": [
      "f(4) 5\n"
     ]
    }
   ],
   "source": [
    "###############################################################################\n",
    "## Converting a symbolic expression to a function which can be evaluated\n",
    "## numerically, via lambdify\n",
    "###############################################################################\n",
    "\n",
    "x = symbols('x')\n",
    "\n",
    "f = implemented_function('f', lambda x: x+1)\n",
    "lam_f = lambdify(x, f(x))\n",
    "print(f(4),lam_f(4))"
   ]
  },
  {
   "cell_type": "code",
   "execution_count": 46,
   "metadata": {},
   "outputs": [
    {
     "data": {
      "text/plain": [
       "5"
      ]
     },
     "execution_count": 46,
     "metadata": {},
     "output_type": "execute_result"
    }
   ],
   "source": [
    "###############################################################################\n",
    "## Converting a symbolic expression to a function which can be evaluated\n",
    "## numerically, via lambdify (again)\n",
    "###############################################################################\n",
    "x,y = symbols('x y') \n",
    "\n",
    "expr = y+x**2\n",
    "\n",
    "lamf = lambdify((x,y),expr)\n",
    "lamf(2,1)"
   ]
  },
  {
   "cell_type": "code",
   "execution_count": 54,
   "metadata": {},
   "outputs": [
    {
     "data": {
      "text/plain": [
       "3"
      ]
     },
     "execution_count": 54,
     "metadata": {},
     "output_type": "execute_result"
    }
   ],
   "source": [
    "# what if i grab the variables from the expression?\n",
    "\n",
    "lamf = lambdify(expr.free_symbols,expr)\n",
    "lamf(1,2) # it appears that expr.free_symbols is not randomly ordered here... weird"
   ]
  },
  {
   "cell_type": "code",
   "execution_count": 84,
   "metadata": {},
   "outputs": [
    {
     "data": {
      "text/plain": [
       "12"
      ]
     },
     "execution_count": 84,
     "metadata": {},
     "output_type": "execute_result"
    }
   ],
   "source": [
    "## We could also do this with additional parameters:\n",
    "\n",
    "x,y,b,a = symbols('x y b a') \n",
    "a = 1 \n",
    "b = 2\n",
    "expr = a*x+b*y\n",
    "\n",
    "lamf = lambdify(expr.free_symbols,expr)\n",
    "lamf(2,5) # should return 12. woohoo"
   ]
  },
  {
   "cell_type": "code",
   "execution_count": null,
   "metadata": {},
   "outputs": [],
   "source": [
    "## Still, we can do one better: try to use a decorator to reference a lambda function"
   ]
  },
  {
   "cell_type": "code",
   "execution_count": 81,
   "metadata": {},
   "outputs": [],
   "source": [
    "###############################################################################\n",
    "## Converting a symbolic expression to a function which can be evaluated\n",
    "## numerically, via lambdify. But this time, we've never explicitly stated the\n",
    "## the expression variables. \n",
    "###############################################################################\n",
    "\n",
    "A = MatrixSymbol('r',2,2).as_mutable() # a matrix with symbolic elements\n",
    "\n",
    "# why would anyone ever do this, instead of just defining a function that \n",
    "# determines a particular operation? Well, suppose the operation we want to \n",
    "# do is more complicated. We could create the expression in sympy, and then\n",
    "# morph it to a numerically evaluable form with lambdify. The alternative\n",
    "# is having to hardcode an equation in a normal python function. \n",
    "some_op = lambdify(A.free_symbols,MatMul(A,A)) "
   ]
  },
  {
   "cell_type": "code",
   "execution_count": 82,
   "metadata": {},
   "outputs": [
    {
     "data": {
      "text/plain": [
       "array([[1, 0],\n",
       "       [0, 4]], dtype=object)"
      ]
     },
     "execution_count": 82,
     "metadata": {},
     "output_type": "execute_result"
    }
   ],
   "source": [
    "r = Matrix([[1,0],[0,2]])\n",
    "some_op(r)"
   ]
  }
 ],
 "metadata": {
  "kernelspec": {
   "display_name": "Python 3",
   "language": "python",
   "name": "python3"
  },
  "language_info": {
   "codemirror_mode": {
    "name": "ipython",
    "version": 3
   },
   "file_extension": ".py",
   "mimetype": "text/x-python",
   "name": "python",
   "nbconvert_exporter": "python",
   "pygments_lexer": "ipython3",
   "version": "3.6.1"
  }
 },
 "nbformat": 4,
 "nbformat_minor": 2
}
