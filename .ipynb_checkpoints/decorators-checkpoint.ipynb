{
 "cells": [
  {
   "cell_type": "markdown",
   "metadata": {},
   "source": [
    "Decorator Example\n",
    "Preston Huft, May 2019\n",
    "\n",
    "A decorator is essentially a function that can be passed to another function which is sort of wrapper that can execute other tasks independent of the decorator passed to it. (Functions are passible as objects in python, like any other object)"
   ]
  },
  {
   "cell_type": "code",
   "execution_count": 54,
   "metadata": {},
   "outputs": [
    {
     "name": "stdout",
     "output_type": "stream",
     "text": [
      "To whom it may concern,\n",
      "This line is the message body.\n"
     ]
    }
   ],
   "source": [
    "## The syntactically vanilla way of decorating a function\n",
    "\n",
    "def letter(func): # the decorator function\n",
    "    def body():\n",
    "        func()\n",
    "    print(\"To whom it may concern,\")\n",
    "    return body()\n",
    "\n",
    "def message():\n",
    "    print(\"This line is the message body.\")\n",
    "    \n",
    "myletter = letter(message) # it isn't obvious, but this actually calls letter()\n",
    "# letter(message) # more obviously, so does this"
   ]
  },
  {
   "cell_type": "code",
   "execution_count": 26,
   "metadata": {},
   "outputs": [
    {
     "name": "stdout",
     "output_type": "stream",
     "text": [
      "To whom it may concern,\n",
      "This line is the message body.\n"
     ]
    }
   ],
   "source": [
    "## The syntactically nicer way of decorating a function\n",
    "\n",
    "def letter(func): # the decorator function\n",
    "    def body():\n",
    "        func()\n",
    "    print(\"To whom it may concern,\")\n",
    "    return body()\n",
    "\n",
    "@letter # syntactic \"sugar\" to \"decorate\" letter() with message()\n",
    "def message():\n",
    "    print(\"This line is the message body.\")\n"
   ]
  },
  {
   "cell_type": "code",
   "execution_count": 61,
   "metadata": {},
   "outputs": [
    {
     "name": "stdout",
     "output_type": "stream",
     "text": [
      "This line is the message body. \n",
      " Sincerely, P \n",
      "To whom it may concern,\n"
     ]
    },
    {
     "ename": "TypeError",
     "evalue": "'NoneType' object is not callable",
     "output_type": "error",
     "traceback": [
      "\u001b[1;31m---------------------------------------------------------------------------\u001b[0m",
      "\u001b[1;31mTypeError\u001b[0m                                 Traceback (most recent call last)",
      "\u001b[1;32m<ipython-input-61-05ee4b13666a>\u001b[0m in \u001b[0;36m<module>\u001b[1;34m()\u001b[0m\n\u001b[0;32m     30\u001b[0m \u001b[1;33m\u001b[0m\u001b[0m\n\u001b[0;32m     31\u001b[0m \u001b[0msender\u001b[0m \u001b[1;33m=\u001b[0m \u001b[1;34m\"P\"\u001b[0m\u001b[1;33m\u001b[0m\u001b[0m\n\u001b[1;32m---> 32\u001b[1;33m \u001b[0mmyletter\u001b[0m \u001b[1;33m=\u001b[0m \u001b[0mletter\u001b[0m\u001b[1;33m(\u001b[0m\u001b[0mmessage\u001b[0m\u001b[1;33m(\u001b[0m\u001b[0msender\u001b[0m\u001b[1;33m)\u001b[0m\u001b[1;33m)\u001b[0m \u001b[1;31m# it isn't obvious, but this actually calls letter()\u001b[0m\u001b[1;33m\u001b[0m\u001b[0m\n\u001b[0m\u001b[0;32m     33\u001b[0m \u001b[1;31m# letter(message) # more obviously, so does this\u001b[0m\u001b[1;33m\u001b[0m\u001b[1;33m\u001b[0m\u001b[0m\n",
      "\u001b[1;32m<ipython-input-60-35cd31c64123>\u001b[0m in \u001b[0;36mletter\u001b[1;34m(func)\u001b[0m\n\u001b[0;32m     24\u001b[0m         \u001b[0mfunc\u001b[0m\u001b[1;33m(\u001b[0m\u001b[1;33m*\u001b[0m\u001b[0margs\u001b[0m\u001b[1;33m,\u001b[0m\u001b[1;33m**\u001b[0m\u001b[0mkwargs\u001b[0m\u001b[1;33m)\u001b[0m\u001b[1;33m\u001b[0m\u001b[0m\n\u001b[0;32m     25\u001b[0m     \u001b[0mprint\u001b[0m\u001b[1;33m(\u001b[0m\u001b[1;34m\"To whom it may concern,\"\u001b[0m\u001b[1;33m)\u001b[0m\u001b[1;33m\u001b[0m\u001b[0m\n\u001b[1;32m---> 26\u001b[1;33m     \u001b[1;32mreturn\u001b[0m \u001b[0mbody\u001b[0m\u001b[1;33m(\u001b[0m\u001b[1;33m)\u001b[0m\u001b[1;33m\u001b[0m\u001b[0m\n\u001b[0m\u001b[0;32m     27\u001b[0m \u001b[1;33m\u001b[0m\u001b[0m\n\u001b[0;32m     28\u001b[0m \u001b[1;32mdef\u001b[0m \u001b[0mmessage\u001b[0m\u001b[1;33m(\u001b[0m\u001b[0mname\u001b[0m\u001b[1;33m)\u001b[0m\u001b[1;33m:\u001b[0m\u001b[1;33m\u001b[0m\u001b[0m\n",
      "\u001b[1;32m<ipython-input-60-35cd31c64123>\u001b[0m in \u001b[0;36mbody\u001b[1;34m(*args, **kwargs)\u001b[0m\n\u001b[0;32m     22\u001b[0m \u001b[1;32mdef\u001b[0m \u001b[0mletter\u001b[0m\u001b[1;33m(\u001b[0m\u001b[0mfunc\u001b[0m\u001b[1;33m)\u001b[0m\u001b[1;33m:\u001b[0m \u001b[1;31m# the decorator function\u001b[0m\u001b[1;33m\u001b[0m\u001b[0m\n\u001b[0;32m     23\u001b[0m     \u001b[1;32mdef\u001b[0m \u001b[0mbody\u001b[0m\u001b[1;33m(\u001b[0m\u001b[1;33m*\u001b[0m\u001b[0margs\u001b[0m\u001b[1;33m,\u001b[0m\u001b[1;33m**\u001b[0m\u001b[0mkwargs\u001b[0m\u001b[1;33m)\u001b[0m\u001b[1;33m:\u001b[0m\u001b[1;33m\u001b[0m\u001b[0m\n\u001b[1;32m---> 24\u001b[1;33m         \u001b[0mfunc\u001b[0m\u001b[1;33m(\u001b[0m\u001b[1;33m*\u001b[0m\u001b[0margs\u001b[0m\u001b[1;33m,\u001b[0m\u001b[1;33m**\u001b[0m\u001b[0mkwargs\u001b[0m\u001b[1;33m)\u001b[0m\u001b[1;33m\u001b[0m\u001b[0m\n\u001b[0m\u001b[0;32m     25\u001b[0m     \u001b[0mprint\u001b[0m\u001b[1;33m(\u001b[0m\u001b[1;34m\"To whom it may concern,\"\u001b[0m\u001b[1;33m)\u001b[0m\u001b[1;33m\u001b[0m\u001b[0m\n\u001b[0;32m     26\u001b[0m     \u001b[1;32mreturn\u001b[0m \u001b[0mbody\u001b[0m\u001b[1;33m(\u001b[0m\u001b[1;33m)\u001b[0m\u001b[1;33m\u001b[0m\u001b[0m\n",
      "\u001b[1;31mTypeError\u001b[0m: 'NoneType' object is not callable"
     ]
    }
   ],
   "source": [
    "## Decorator example when the function passed in takes arguments\n",
    "\n",
    "# def letter(func): # the decorator function\n",
    "#     def body(*args,**kwargs):\n",
    "#         func(*args,**kwargs)\n",
    "#     print(\"To whom it may concern,\")\n",
    "# #     return body\n",
    "\n",
    "\n",
    "# ## this way of calling message only works if we define 'name' in the prototype.\n",
    "# # @letter # syntactic \"sugar\" to \"decorate\" letter() with message()\n",
    "# # def message(name=\"P\"):\n",
    "# #     print(\"This line is the message body. \\n Sincerely, %s \" %name)\n",
    "\n",
    "# def message(name):\n",
    "#     print(\"This line is the message body. \\n Sincerely, %s \" %name)\n",
    "    \n",
    "# myletter = letter(message(name=\"P\"))\n",
    "\n",
    "#####\n",
    "\n",
    "# def letter(func): # the decorator function\n",
    "#     def body(*args,**kwargs):\n",
    "#         func(*args,**kwargs)\n",
    "#     print(\"To whom it may concern,\")\n",
    "#     return body()\n",
    "\n",
    "def message(name):\n",
    "    print(\"This line is the message body. \\n Sincerely, %s \" %name)\n",
    "    \n",
    "sender = \"P\"\n",
    "myletter = letter(message(sender)) # it isn't obvious, but this actually calls letter()\n",
    "# letter(message) # more obviously, so does this"
   ]
  },
  {
   "cell_type": "code",
   "execution_count": null,
   "metadata": {},
   "outputs": [],
   "source": [
    "## Can we decorate a function with a lambda expression? \n",
    "\n"
   ]
  },
  {
   "cell_type": "code",
   "execution_count": 19,
   "metadata": {},
   "outputs": [
    {
     "name": "stdout",
     "output_type": "stream",
     "text": [
      "Why is my algebra teacher always talking about finding his x?\n"
     ]
    }
   ],
   "source": [
    "s = \"x\"\n",
    "print(\"Why is my algebra teacher always talking about finding his %s?\" % s)"
   ]
  },
  {
   "cell_type": "code",
   "execution_count": 35,
   "metadata": {},
   "outputs": [
    {
     "name": "stdout",
     "output_type": "stream",
     "text": [
      "Why is my algebra teacher always talking about finding his x?\n"
     ]
    }
   ],
   "source": [
    "s = \"x\"\n",
    "print(f\"Why is my algebra teacher always talking about finding his {s}?\")"
   ]
  },
  {
   "cell_type": "code",
   "execution_count": null,
   "metadata": {},
   "outputs": [],
   "source": []
  }
 ],
 "metadata": {
  "kernelspec": {
   "display_name": "Python 3",
   "language": "python",
   "name": "python3"
  },
  "language_info": {
   "codemirror_mode": {
    "name": "ipython",
    "version": 3
   },
   "file_extension": ".py",
   "mimetype": "text/x-python",
   "name": "python",
   "nbconvert_exporter": "python",
   "pygments_lexer": "ipython3",
   "version": "3.6.1"
  }
 },
 "nbformat": 4,
 "nbformat_minor": 2
}
