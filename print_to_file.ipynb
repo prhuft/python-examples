{
 "cells": [
  {
   "cell_type": "code",
   "execution_count": null,
   "metadata": {},
   "outputs": [],
   "source": [
    "\"\"\"Print to file example\"\"\""
   ]
  },
  {
   "cell_type": "code",
   "execution_count": 18,
   "metadata": {},
   "outputs": [],
   "source": [
    "# log = open('C:\\Users\\gothr\\Documents\\Python\\examples\\test.txt', 'w')\n",
    "# print(\"test\", file = log)\n",
    "\n",
    "str = ''\n",
    "ls = [\"a\",'b','c']\n",
    "for i,x in enumerate(ls):\n",
    "    str += f\"{i},{x}\\n\"\n",
    "# print(str)\n",
    "\n",
    "with open('C:\\\\Users\\\\gothr\\\\Documents\\\\Python\\\\examples\\\\test.txt','w') as f: print(str, file=f)"
   ]
  },
  {
   "cell_type": "code",
   "execution_count": null,
   "metadata": {},
   "outputs": [],
   "source": []
  }
 ],
 "metadata": {
  "kernelspec": {
   "display_name": "Python 3",
   "language": "python",
   "name": "python3"
  },
  "language_info": {
   "codemirror_mode": {
    "name": "ipython",
    "version": 3
   },
   "file_extension": ".py",
   "mimetype": "text/x-python",
   "name": "python",
   "nbconvert_exporter": "python",
   "pygments_lexer": "ipython3",
   "version": "3.7.3"
  }
 },
 "nbformat": 4,
 "nbformat_minor": 2
}
